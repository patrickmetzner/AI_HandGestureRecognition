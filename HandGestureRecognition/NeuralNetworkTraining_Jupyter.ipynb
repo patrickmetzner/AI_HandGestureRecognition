{
 "cells": [
  {
   "cell_type": "code",
   "execution_count": 1,
   "metadata": {},
   "outputs": [],
   "source": [
    "import os\n",
    "import random\n",
    "import glob\n",
    "import shutil\n",
    "import itertools\n",
    "import numpy as np\n",
    "import tensorflow as tf\n",
    "from tensorflow import keras\n",
    "from tensorflow.keras.models import Sequential\n",
    "from tensorflow.keras.layers import Activation, Dense, Flatten, BatchNormalization, Conv2D, MaxPool2D\n",
    "from tensorflow.keras.optimizers import Adam\n",
    "from tensorflow.keras.metrics import categorical_crossentropy\n",
    "from tensorflow.keras.preprocessing.image import ImageDataGenerator\n",
    "from sklearn.metrics import confusion_matrix\n",
    "import matplotlib.pyplot as plt"
   ]
  },
  {
   "cell_type": "code",
   "execution_count": 2,
   "metadata": {},
   "outputs": [],
   "source": [
    "# Global variables\n",
    "numberOfTrainingImages = 3000\n",
    "numberOfValidationImages = 600\n",
    "numberOfTestImages = 30\n",
    "imageWidth = imageHeight = 224\n",
    "imageLabels = [\"thumbsUp\", \"thumbsDown\", \"noHand\"]"
   ]
  },
  {
   "cell_type": "code",
   "execution_count": 3,
   "metadata": {},
   "outputs": [],
   "source": [
    "# Organize images into trainingImages, validationImages, testImages directories\n",
    "os.chdir('images')\n",
    "if os.path.isdir('trainingImages/thumbsUp') is False:\n",
    "    # Make trainingImages directory\n",
    "    os.makedirs('trainingImages/thumbsUp')\n",
    "    os.makedirs('trainingImages/thumbsDown')\n",
    "    os.makedirs('trainingImages/noHand')\n",
    "\n",
    "    # Make validationImages directory\n",
    "    os.makedirs('validationImages/thumbsUp')\n",
    "    os.makedirs('validationImages/thumbsDown')\n",
    "    os.makedirs('validationImages/noHand')\n",
    "\n",
    "    # Make testImages directory\n",
    "    os.makedirs('testImages/thumbsUp')\n",
    "    os.makedirs('testImages/thumbsDown')\n",
    "    os.makedirs('testImages/noHand')\n",
    "\n",
    "    # Transfer trainingImages to directory\n",
    "    for c in random.sample(glob.glob('thumbsUp*'), int(numberOfTrainingImages/len(imageLabels))):\n",
    "        shutil.move(c, 'trainingImages/thumbsUp')\n",
    "    for c in random.sample(glob.glob('thumbsDown*'), int(numberOfTrainingImages/len(imageLabels))):\n",
    "        shutil.move(c, 'trainingImages/thumbsDown')\n",
    "    for c in random.sample(glob.glob('noHand*'), int(numberOfTrainingImages/len(imageLabels))):\n",
    "        shutil.move(c, 'trainingImages/noHand')\n",
    "\n",
    "    # Transfer validationImages to directory\n",
    "    for c in random.sample(glob.glob('thumbsUp*'), int(numberOfValidationImages/len(imageLabels))):\n",
    "        shutil.move(c, 'validationImages/thumbsUp')\n",
    "    for c in random.sample(glob.glob('thumbsDown*'), int(numberOfValidationImages/len(imageLabels))):\n",
    "        shutil.move(c, 'validationImages/thumbsDown')\n",
    "    for c in random.sample(glob.glob('noHand*'), int(numberOfValidationImages/len(imageLabels))):\n",
    "        shutil.move(c, 'validationImages/noHand')\n",
    "\n",
    "    # Transfer testImages to directory\n",
    "    for c in random.sample(glob.glob('thumbsUp*'), int(numberOfTestImages/len(imageLabels))):\n",
    "        shutil.move(c, 'testImages/thumbsUp')\n",
    "    for c in random.sample(glob.glob('thumbsDown*'), int(numberOfTestImages/len(imageLabels))):\n",
    "        shutil.move(c, 'testImages/thumbsDown')\n",
    "    for c in random.sample(glob.glob('noHand*'), int(numberOfTestImages/len(imageLabels))):\n",
    "        shutil.move(c, 'testImages/noHand')\n",
    "\n",
    "os.chdir('../')"
   ]
  },
  {
   "cell_type": "code",
   "execution_count": 4,
   "metadata": {},
   "outputs": [
    {
     "name": "stdout",
     "output_type": "stream",
     "text": [
      "Found 3000 images belonging to 3 classes.\n",
      "Found 600 images belonging to 3 classes.\n",
      "Found 30 images belonging to 3 classes.\n"
     ]
    }
   ],
   "source": [
    "trainingPath = 'images/trainingImages'\n",
    "validationPath = 'images/validationImages'\n",
    "testPath = 'images/testImages'\n",
    "\n",
    "# Image preparation\n",
    "batchSize = 10\n",
    "trainingBatches = ImageDataGenerator(preprocessing_function=tf.keras.applications.vgg16.preprocess_input) \\\n",
    "    .flow_from_directory(directory=trainingPath, target_size=(imageWidth, imageHeight),\n",
    "                         classes=[\"thumbsUp\", \"thumbsDown\", \"noHand\"], batch_size=batchSize)\n",
    "\n",
    "validationBatches = ImageDataGenerator(preprocessing_function=tf.keras.applications.vgg16.preprocess_input) \\\n",
    "    .flow_from_directory(directory=validationPath, target_size=(imageWidth, imageHeight),\n",
    "                         classes=[\"thumbsUp\", \"thumbsDown\", \"noHand\"], batch_size=batchSize)\n",
    "\n",
    "testBatches = ImageDataGenerator(preprocessing_function=tf.keras.applications.vgg16.preprocess_input) \\\n",
    "    .flow_from_directory(directory=testPath, target_size=(imageWidth, imageHeight),\n",
    "                         classes=[\"thumbsUp\", \"thumbsDown\", \"noHand\"], batch_size=batchSize, shuffle=False)"
   ]
  },
  {
   "cell_type": "code",
   "execution_count": 5,
   "metadata": {},
   "outputs": [],
   "source": [
    "assert trainingBatches.n == numberOfTrainingImages\n",
    "assert validationBatches.n == numberOfValidationImages\n",
    "assert testBatches.n == numberOfTestImages\n",
    "assert trainingBatches.num_classes == validationBatches.num_classes == testBatches.num_classes == len(imageLabels)"
   ]
  },
  {
   "cell_type": "code",
   "execution_count": 6,
   "metadata": {},
   "outputs": [],
   "source": [
    "images, labels = next(trainingBatches)"
   ]
  },
  {
   "cell_type": "code",
   "execution_count": 8,
   "metadata": {},
   "outputs": [],
   "source": [
    "unitsLength = len(imageLabels)\n",
    "myNeuralNetwork = Sequential([\n",
    "        Conv2D(filters=32, kernel_size=(3, 3), activation='relu', padding='same', input_shape=(imageWidth, imageHeight, 3)),\n",
    "        MaxPool2D(pool_size=(2, 2), strides=2),\n",
    "        Conv2D(filters=64, kernel_size=(3, 3), activation='relu', padding='same'),\n",
    "        MaxPool2D(pool_size=(2, 2), strides=2),\n",
    "        Flatten(),\n",
    "        Dense(units=unitsLength, activation='softmax'), ])"
   ]
  },
  {
   "cell_type": "code",
   "execution_count": 9,
   "metadata": {},
   "outputs": [
    {
     "name": "stdout",
     "output_type": "stream",
     "text": [
      "Model: \"sequential_1\"\n",
      "_________________________________________________________________\n",
      "Layer (type)                 Output Shape              Param #   \n",
      "=================================================================\n",
      "conv2d_2 (Conv2D)            (None, 224, 224, 32)      896       \n",
      "_________________________________________________________________\n",
      "max_pooling2d_2 (MaxPooling2 (None, 112, 112, 32)      0         \n",
      "_________________________________________________________________\n",
      "conv2d_3 (Conv2D)            (None, 112, 112, 64)      18496     \n",
      "_________________________________________________________________\n",
      "max_pooling2d_3 (MaxPooling2 (None, 56, 56, 64)        0         \n",
      "_________________________________________________________________\n",
      "flatten_1 (Flatten)          (None, 200704)            0         \n",
      "_________________________________________________________________\n",
      "dense_1 (Dense)              (None, 3)                 602115    \n",
      "=================================================================\n",
      "Total params: 621,507\n",
      "Trainable params: 621,507\n",
      "Non-trainable params: 0\n",
      "_________________________________________________________________\n"
     ]
    }
   ],
   "source": [
    "myNeuralNetwork.summary()"
   ]
  },
  {
   "cell_type": "code",
   "execution_count": 10,
   "metadata": {},
   "outputs": [],
   "source": [
    "myNeuralNetwork.compile(optimizer=Adam(learning_rate=0.0001),\n",
    "                        loss='categorical_crossentropy',\n",
    "                        metrics=['accuracy'])"
   ]
  },
  {
   "cell_type": "code",
   "execution_count": 11,
   "metadata": {},
   "outputs": [
    {
     "name": "stdout",
     "output_type": "stream",
     "text": [
      "Epoch 1/10\n",
      "300/300 - 262s - loss: 6.0836 - acc: 0.8517 - val_loss: 1.3873 - val_acc: 0.9217\n",
      "Epoch 2/10\n",
      "300/300 - 279s - loss: 0.1072 - acc: 0.9877 - val_loss: 0.0793 - val_acc: 0.9917\n",
      "Epoch 3/10\n",
      "300/300 - 247s - loss: 0.1446 - acc: 0.9857 - val_loss: 0.0041 - val_acc: 0.9983\n",
      "Epoch 4/10\n",
      "300/300 - 244s - loss: 0.0061 - acc: 0.9983 - val_loss: 0.0594 - val_acc: 0.9917\n",
      "Epoch 5/10\n",
      "300/300 - 266s - loss: 0.0579 - acc: 0.9920 - val_loss: 0.5065 - val_acc: 0.9483\n",
      "Epoch 6/10\n",
      "300/300 - 260s - loss: 0.0254 - acc: 0.9953 - val_loss: 0.0318 - val_acc: 0.9933\n",
      "Epoch 7/10\n",
      "300/300 - 240s - loss: 0.0020 - acc: 0.9993 - val_loss: 1.6207e-04 - val_acc: 1.0000\n",
      "Epoch 8/10\n",
      "300/300 - 236s - loss: 2.6562e-04 - acc: 1.0000 - val_loss: 0.0011 - val_acc: 1.0000\n",
      "Epoch 9/10\n",
      "300/300 - 232s - loss: 6.9587e-06 - acc: 1.0000 - val_loss: 6.5264e-04 - val_acc: 1.0000\n",
      "Epoch 10/10\n",
      "300/300 - 242s - loss: 1.6522e-07 - acc: 1.0000 - val_loss: 6.5943e-04 - val_acc: 1.0000\n"
     ]
    },
    {
     "data": {
      "text/plain": [
       "<tensorflow.python.keras.callbacks.History at 0x220cf9d0448>"
      ]
     },
     "execution_count": 11,
     "metadata": {},
     "output_type": "execute_result"
    }
   ],
   "source": [
    "myNeuralNetwork.fit(x=trainingBatches,\n",
    "                    steps_per_epoch=len(trainingBatches),\n",
    "                    validation_data=validationBatches,\n",
    "                    validation_steps=len(validationBatches),\n",
    "                    epochs=10,\n",
    "                    verbose=2)"
   ]
  },
  {
   "cell_type": "code",
   "execution_count": 12,
   "metadata": {},
   "outputs": [],
   "source": [
    "predictions = myNeuralNetwork.predict(x=testBatches, steps=len(testBatches), verbose=0)"
   ]
  },
  {
   "cell_type": "code",
   "execution_count": 13,
   "metadata": {},
   "outputs": [],
   "source": [
    "myConfusionMatrix = confusion_matrix(y_true=testBatches.classes, y_pred=np.argmax(predictions, axis=-1))"
   ]
  },
  {
   "cell_type": "code",
   "execution_count": 14,
   "metadata": {},
   "outputs": [],
   "source": [
    "def plot_confusion_matrix(cm, classes, normalize=False, title='Confusion Matrix', cmap=plt.cm.Blues):\n",
    "    plt.imshow(cm, interpolation='nearest', cmap=cmap)\n",
    "    plt.title(title)\n",
    "    plt.colorbar()\n",
    "    tick_marks = np.arange(len(classes))\n",
    "    plt.xticks(tick_marks, classes, rotation=45)\n",
    "    plt.yticks(tick_marks, classes)\n",
    "\n",
    "    if normalize:\n",
    "        cm = cm.astype('float') / cm.sum(axis=1)[:, np.newaxis]\n",
    "        print(\"Normalized confusion matrix\")\n",
    "    else:\n",
    "        print('Confusion matrix, without normalization')\n",
    "\n",
    "    print(cm)\n",
    "\n",
    "    threshold = cm.max() / 2.\n",
    "    for i, j in itertools.product(range(cm.shape[0]), range(cm.shape[1])):\n",
    "        plt.text(j, i, cm[i, j], horizontalalignment=\"center\", color=\"white\" if cm[i, j] > threshold else \"black\")\n",
    "\n",
    "    plt.tight_layout()\n",
    "    plt.ylabel('True label')\n",
    "    plt.xlabel('Predicted label')"
   ]
  },
  {
   "cell_type": "code",
   "execution_count": 15,
   "metadata": {},
   "outputs": [
    {
     "name": "stdout",
     "output_type": "stream",
     "text": [
      "Confusion matrix, without normalization\n",
      "[[10  0  0]\n",
      " [ 0 10  0]\n",
      " [ 0  0 10]]\n"
     ]
    },
    {
     "data": {
      "image/png": "[encoded data removed]",
      "text/plain": [
       "<Figure size 432x288 with 2 Axes>"
      ]
     },
     "metadata": {
      "needs_background": "light"
     },
     "output_type": "display_data"
    }
   ],
   "source": [
    "plot_confusion_matrix(cm=myConfusionMatrix, classes=imageLabels, title='Confusion Matrix')"
   ]
  },
  {
   "cell_type": "code",
   "execution_count": 16,
   "metadata": {},
   "outputs": [],
   "source": [
    "if os.path.isdir('TrainedNeuralNetworks') is False:\n",
    "    os.makedirs('TrainedNeuralNetworks')\n",
    "\n",
    "myNeuralNetwork.save('TrainedNeuralNetworks/HandGestureRecognition_UpDownNone_v3.h5')"
   ]
  },
  {
   "cell_type": "code",
   "execution_count": null,
   "metadata": {},
   "outputs": [],
   "source": []
  }
 ],
 "metadata": {
  "kernelspec": {
   "display_name": "Python 3",
   "language": "python",
   "name": "python3"
  },
  "language_info": {
   "codemirror_mode": {
    "name": "ipython",
    "version": 3
   },
   "file_extension": ".py",
   "mimetype": "text/x-python",
   "name": "python",
   "nbconvert_exporter": "python",
   "pygments_lexer": "ipython3",
   "version": "3.7.4"
  }
 },
 "nbformat": 4,
 "nbformat_minor": 2
}
